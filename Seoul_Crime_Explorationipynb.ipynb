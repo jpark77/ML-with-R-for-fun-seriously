{
  "nbformat": 4,
  "nbformat_minor": 0,
  "metadata": {
    "colab": {
      "name": "Seoul_Crime_Explorationipynb",
      "provenance": [],
      "authorship_tag": "ABX9TyNwcYYxQ8JvFUOrCaXpcpd6",
      "include_colab_link": true
    },
    "kernelspec": {
      "name": "python3",
      "display_name": "Python 3"
    }
  },
  "cells": [
    {
      "cell_type": "markdown",
      "metadata": {
        "id": "view-in-github",
        "colab_type": "text"
      },
      "source": [
        "<a href=\"https://colab.research.google.com/github/jpark77/ML-with-R-for-fun-seriously/blob/master/Seoul_Crime_Explorationipynb.ipynb\" target=\"_parent\"><img src=\"https://colab.research.google.com/assets/colab-badge.svg\" alt=\"Open In Colab\"/></a>"
      ]
    },
    {
      "cell_type": "markdown",
      "metadata": {
        "id": "BVrejDBUy3KA",
        "colab_type": "text"
      },
      "source": [
        "In the following assignment, I am going to explore crime status in the city of \n",
        "Seoul. More specifically I will explore the crime rate for Seoul's 25 boroughs. Here I will instead use GoogpleMaps API (e.g. Geocode API) to get the location data of police stations. I then will employ powerful visualization libraries, e.g. Seaborn and Matplolib, and data manipulation techiques using Pandas to summarize criminal activities within those districts. And subsequently, I will make a policy recommendation according to the results."
      ]
    },
    {
      "cell_type": "markdown",
      "metadata": {
        "id": "vRgVeb8Gy3ju",
        "colab_type": "text"
      },
      "source": [
        "I will use Seoul's crime types (Homicide, Violence, Rape, Robbery, Theft) and arrest rates for each crime. And information on Seoul's surveilance cameras to make a futher analysis fruitful. Google Maps and Folium are used to exhibit geo-information on Seoul's crime situation.  "
      ]
    },
    {
      "cell_type": "code",
      "metadata": {
        "id": "waZQHZ7a0aKk",
        "colab_type": "code",
        "colab": {}
      },
      "source": [
        ""
      ],
      "execution_count": null,
      "outputs": []
    }
  ]
}